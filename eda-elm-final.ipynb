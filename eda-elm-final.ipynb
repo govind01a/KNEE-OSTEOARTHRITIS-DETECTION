{
 "cells": [
  {
   "cell_type": "code",
   "execution_count": 32,
   "id": "ac0f1864",
   "metadata": {
    "_cell_guid": "b1076dfc-b9ad-4769-8c92-a6c4dae69d19",
    "_uuid": "8f2839f25d086af736a60e9eeb907d3b93b6e0e5",
    "execution": {
     "iopub.execute_input": "2023-04-06T18:44:22.883609Z",
     "iopub.status.busy": "2023-04-06T18:44:22.883201Z",
     "iopub.status.idle": "2023-04-06T18:44:22.890433Z",
     "shell.execute_reply": "2023-04-06T18:44:22.889037Z",
     "shell.execute_reply.started": "2023-04-06T18:44:22.883577Z"
    },
    "papermill": {
     "duration": 1.348599,
     "end_time": "2022-04-01T13:37:53.080162",
     "exception": false,
     "start_time": "2022-04-01T13:37:51.731563",
     "status": "completed"
    },
    "tags": []
   },
   "outputs": [],
   "source": [
    "import numpy as np\n",
    "import matplotlib.pyplot as plt\n",
    "from matplotlib.pyplot import imshow\n",
    "import matplotlib.image as img\n",
    "import os\n",
    "import glob\n",
    "import shutil\n",
    "import random\n",
    "import pandas as pd\n",
    "from PIL import Image\n",
    "import seaborn as sns\n",
    "from sklearn.model_selection import train_test_split\n",
    "from sklearn.metrics import accuracy_score,confusion_matrix,precision_score,recall_score,f1_score\n",
    "import itertools   "
   ]
  },
  {
   "cell_type": "code",
   "execution_count": 2,
   "id": "6728c0a9",
   "metadata": {
    "execution": {
     "iopub.execute_input": "2023-04-06T18:22:40.037565Z",
     "iopub.status.busy": "2023-04-06T18:22:40.037090Z",
     "iopub.status.idle": "2023-04-06T18:22:40.041191Z",
     "shell.execute_reply": "2023-04-06T18:22:40.040534Z",
     "shell.execute_reply.started": "2023-04-06T18:22:40.037537Z"
    },
    "papermill": {
     "duration": 0.025161,
     "end_time": "2022-04-01T13:37:53.124780",
     "exception": false,
     "start_time": "2022-04-01T13:37:53.099619",
     "status": "completed"
    },
    "tags": []
   },
   "outputs": [],
   "source": [
    "# Parameters\n",
    "rim = 200 #resizing the image\n",
    "val = 0.1 #10% of the training set data for the validation set\n",
    "hu = 750 #hidden units\n",
    "rel = 1"
   ]
  },
  {
   "cell_type": "code",
   "execution_count": 3,
   "id": "7e0b993d",
   "metadata": {
    "execution": {
     "iopub.execute_input": "2023-04-06T18:22:40.042961Z",
     "iopub.status.busy": "2023-04-06T18:22:40.042551Z",
     "iopub.status.idle": "2023-04-06T18:23:33.692026Z",
     "shell.execute_reply": "2023-04-06T18:23:33.690119Z",
     "shell.execute_reply.started": "2023-04-06T18:22:40.042936Z"
    },
    "papermill": {
     "duration": 176.950607,
     "end_time": "2022-04-01T13:40:50.092957",
     "exception": false,
     "start_time": "2022-04-01T13:37:53.142350",
     "status": "completed"
    },
    "tags": []
   },
   "outputs": [
    {
     "name": "stdout",
     "output_type": "stream",
     "text": [
      "a1: size  =  2286\n",
      "h1: size  =  1046\n",
      "b1: size  =  1516\n",
      "c1: size  =  757\n",
      "d1: size  =  173\n"
     ]
    }
   ],
   "source": [
    "# Importing images from the training set (and the test set)\n",
    "\n",
    "def importing(path):\n",
    "    spl = []\n",
    "    for filename in glob.glob(path):\n",
    "        im = Image.open(filename,'r')\n",
    "        im = im.resize((rim,rim))#resizing the image\n",
    "        im = np.array(im)\n",
    "        IM = im.ravel() # flattened array (1D)\n",
    "        spl.append(IM)\n",
    "    return spl\n",
    "\n",
    "path1 = '/kaggle/input/knee-osteoarthritis-dataset-with-severity/train/0/*.png'\n",
    "path2 = '/kaggle/input/knee-osteoarthritis-dataset-with-severity/train/1/*.png'\n",
    "path3 = '/kaggle/input/knee-osteoarthritis-dataset-with-severity/train/2/*.png'\n",
    "path4 = '/kaggle/input/knee-osteoarthritis-dataset-with-severity/train/3/*.png'\n",
    "path5 = '/kaggle/input/knee-osteoarthritis-dataset-with-severity/train/4/*.png'\n",
    "\n",
    "a1 = importing(path1) \n",
    "print(\"a1: size  = \", len(a1))\n",
    "\n",
    "train_a = []\n",
    "\n",
    "for i in a1:\n",
    "    train_a.append(i)\n",
    "\n",
    "h1 = importing(path2)\n",
    "print(\"h1: size  = \", len(h1))\n",
    "\n",
    "\n",
    "train_h = []\n",
    "\n",
    "for i in h1:\n",
    "    train_h.append(i)\n",
    "\n",
    "b1 = importing(path3)\n",
    "print(\"b1: size  = \", len(b1))\n",
    "\n",
    "\n",
    "train_b = []\n",
    "\n",
    "for i in b1:\n",
    "    train_b.append(i)\n",
    "\n",
    "c1 = importing(path4)\n",
    "print(\"c1: size  = \", len(c1))\n",
    "\n",
    "\n",
    "train_c = []\n",
    "\n",
    "for i in c1:\n",
    "    train_c.append(i)\n",
    "d1 = importing(path5)\n",
    "print(\"d1: size  = \", len(d1))\n",
    "\n",
    "\n",
    "train_d = []\n",
    "\n",
    "for i in d1:\n",
    "    train_d.append(i)\n",
    "\n"
   ]
  },
  {
   "cell_type": "code",
   "execution_count": 4,
   "id": "cf8885b6",
   "metadata": {
    "execution": {
     "iopub.execute_input": "2023-04-06T18:23:33.696007Z",
     "iopub.status.busy": "2023-04-06T18:23:33.695563Z",
     "iopub.status.idle": "2023-04-06T18:23:33.712852Z",
     "shell.execute_reply": "2023-04-06T18:23:33.711063Z",
     "shell.execute_reply.started": "2023-04-06T18:23:33.695969Z"
    },
    "papermill": {
     "duration": 0.040502,
     "end_time": "2022-04-01T13:40:50.713660",
     "exception": false,
     "start_time": "2022-04-01T13:40:50.673158",
     "status": "completed"
    },
    "tags": []
   },
   "outputs": [],
   "source": [
    "dataframe_train_a = pd.DataFrame({'image':train_a, 'label': 'Healthy'})\n",
    "dataframe_train_h = pd.DataFrame({'image':train_h, 'label': 'Doubtful'}) \n",
    "dataframe_train_b = pd.DataFrame({'image':train_b, 'label': 'Minimal'})\n",
    "dataframe_train_c = pd.DataFrame({'image':train_c, 'label': 'Moderate'})\n",
    "dataframe_train_d = pd.DataFrame({'image':train_d, 'label': 'Severe'}) \n",
    "\n",
    "data_train = dataframe_train_a.append(dataframe_train_h,ignore_index=True)\n",
    "data_train1=data_train.append(dataframe_train_b,ignore_index=True)\n",
    "data_train2=data_train1.append(dataframe_train_c,ignore_index=True)\n",
    "data_train3=data_train2.append(dataframe_train_d,ignore_index=True)"
   ]
  },
  {
   "cell_type": "code",
   "execution_count": 5,
   "id": "74886d8c",
   "metadata": {
    "execution": {
     "iopub.execute_input": "2023-04-06T18:23:33.714426Z",
     "iopub.status.busy": "2023-04-06T18:23:33.714061Z",
     "iopub.status.idle": "2023-04-06T18:23:33.769198Z",
     "shell.execute_reply": "2023-04-06T18:23:33.768213Z",
     "shell.execute_reply.started": "2023-04-06T18:23:33.714394Z"
    },
    "papermill": {
     "duration": 0.563925,
     "end_time": "2022-04-01T13:40:51.301219",
     "exception": false,
     "start_time": "2022-04-01T13:40:50.737294",
     "status": "completed"
    },
    "tags": []
   },
   "outputs": [],
   "source": [
    "trainX = []\n",
    "for i in data_train3.image:\n",
    "    trainX.append(i) \n",
    "    \n",
    "traindX = np.array(trainX)"
   ]
  },
  {
   "cell_type": "code",
   "execution_count": 6,
   "id": "cada27de",
   "metadata": {
    "execution": {
     "iopub.execute_input": "2023-04-06T18:23:33.770850Z",
     "iopub.status.busy": "2023-04-06T18:23:33.770459Z",
     "iopub.status.idle": "2023-04-06T18:23:33.784175Z",
     "shell.execute_reply": "2023-04-06T18:23:33.782932Z",
     "shell.execute_reply.started": "2023-04-06T18:23:33.770818Z"
    },
    "papermill": {
     "duration": 0.043908,
     "end_time": "2022-04-01T13:40:51.367712",
     "exception": false,
     "start_time": "2022-04-01T13:40:51.323804",
     "status": "completed"
    },
    "tags": []
   },
   "outputs": [
    {
     "name": "stdout",
     "output_type": "stream",
     "text": [
      "5778\n"
     ]
    }
   ],
   "source": [
    "trainY = np.array(data_train3.label) \n",
    "\n",
    "traindY = []\n",
    "for i in range(len(trainY)):\n",
    "    if(trainY[i]==\"Healthy\"):\n",
    "        traindY.append(0)\n",
    "    elif(trainY[i]==\"Doubtful\") :\n",
    "        traindY.append(1) \n",
    "    elif(trainY[i]==\"Minimal\") :\n",
    "        traindY.append(2) \n",
    "    elif(trainY[i]==\"Moderate\") :\n",
    "        traindY.append(3) \n",
    "    else:\n",
    "        traindY.append(4) \n",
    "print(len(traindY))\n",
    "\n",
    "classe = 5\n",
    "\n",
    "trainY = np.zeros([len(traindY), classe])\n",
    "for i in range(len(traindY)):\n",
    "        trainY[i][traindY[i]] = 1"
   ]
  },
  {
   "cell_type": "code",
   "execution_count": 7,
   "id": "0a368ed3",
   "metadata": {
    "execution": {
     "iopub.execute_input": "2023-04-06T18:23:33.786215Z",
     "iopub.status.busy": "2023-04-06T18:23:33.785461Z",
     "iopub.status.idle": "2023-04-06T18:23:33.827545Z",
     "shell.execute_reply": "2023-04-06T18:23:33.826375Z",
     "shell.execute_reply.started": "2023-04-06T18:23:33.786178Z"
    },
    "papermill": {
     "duration": 1.070873,
     "end_time": "2022-04-01T13:40:52.461235",
     "exception": false,
     "start_time": "2022-04-01T13:40:51.390362",
     "status": "completed"
    },
    "tags": []
   },
   "outputs": [
    {
     "name": "stdout",
     "output_type": "stream",
     "text": [
      "Training size: 5200, Validation size: 578\n"
     ]
    }
   ],
   "source": [
    "\n",
    "trainX, validX, trainY, validY = train_test_split(traindX, trainY, test_size=val)\n",
    "print('Training size: {training}, Validation size: {validation}'.format(training=len(trainX), validation=len(validX)))"
   ]
  },
  {
   "cell_type": "code",
   "execution_count": 8,
   "id": "4435e113",
   "metadata": {
    "execution": {
     "iopub.execute_input": "2023-04-06T18:23:33.828759Z",
     "iopub.status.busy": "2023-04-06T18:23:33.828515Z",
     "iopub.status.idle": "2023-04-06T18:23:33.867040Z",
     "shell.execute_reply": "2023-04-06T18:23:33.865853Z",
     "shell.execute_reply.started": "2023-04-06T18:23:33.828735Z"
    },
    "papermill": {
     "duration": 2.165584,
     "end_time": "2022-04-01T13:40:54.652263",
     "exception": false,
     "start_time": "2022-04-01T13:40:52.486679",
     "status": "completed"
    },
    "tags": []
   },
   "outputs": [],
   "source": [
    "\n",
    "trainX=np.matrix(trainX)\n",
    "trainY=np.matrix(trainY)\n",
    "\n",
    "validX=np.matrix(validX)\n",
    "validY=np.matrix(validY)\n"
   ]
  },
  {
   "cell_type": "code",
   "execution_count": 9,
   "id": "2fe51654",
   "metadata": {
    "execution": {
     "iopub.execute_input": "2023-04-06T18:23:33.869459Z",
     "iopub.status.busy": "2023-04-06T18:23:33.869080Z",
     "iopub.status.idle": "2023-04-06T18:23:34.628458Z",
     "shell.execute_reply": "2023-04-06T18:23:34.627218Z",
     "shell.execute_reply.started": "2023-04-06T18:23:33.869421Z"
    },
    "papermill": {
     "duration": 3.79839,
     "end_time": "2022-04-01T13:40:58.473565",
     "exception": false,
     "start_time": "2022-04-01T13:40:54.675175",
     "status": "completed"
    },
    "tags": []
   },
   "outputs": [
    {
     "name": "stdout",
     "output_type": "stream",
     "text": [
      "Input weight shape: (40000, 750)\n"
     ]
    }
   ],
   "source": [
    "# Extreme Learning Machine model\n",
    "inputL = trainX.shape[1] #input length\n",
    "HiddenUnits = hu #Hidden units\n",
    "Wi = np.random.normal(size=[inputL, HiddenUnits]) #Gaussian random noise\n",
    "Wi = np.matrix(Wi) #Hidden layer input weight matrix\n",
    "\n",
    "print('Input weight shape: {shape}'.format(shape=Wi.shape))"
   ]
  },
  {
   "cell_type": "code",
   "execution_count": 10,
   "id": "8c8e446f",
   "metadata": {
    "execution": {
     "iopub.execute_input": "2023-04-06T18:23:34.632552Z",
     "iopub.status.busy": "2023-04-06T18:23:34.631586Z",
     "iopub.status.idle": "2023-04-06T18:23:34.638170Z",
     "shell.execute_reply": "2023-04-06T18:23:34.636762Z",
     "shell.execute_reply.started": "2023-04-06T18:23:34.632503Z"
    },
    "papermill": {
     "duration": 0.038756,
     "end_time": "2022-04-01T13:40:58.538530",
     "exception": false,
     "start_time": "2022-04-01T13:40:58.499774",
     "status": "completed"
    },
    "tags": []
   },
   "outputs": [],
   "source": [
    "def input_hidden(x):\n",
    "    print(\"x shape:\",x.shape)\n",
    "    print(\"Weights shape:\",Wi.shape)\n",
    "    \n",
    "    m = np.dot(x, Wi) \n",
    "    m = np.maximum(m, rel, m) \n",
    "    return m"
   ]
  },
  {
   "cell_type": "code",
   "execution_count": 11,
   "id": "6ae6b282",
   "metadata": {
    "execution": {
     "iopub.execute_input": "2023-04-06T18:23:34.640829Z",
     "iopub.status.busy": "2023-04-06T18:23:34.640068Z",
     "iopub.status.idle": "2023-04-06T18:23:39.378032Z",
     "shell.execute_reply": "2023-04-06T18:23:39.377221Z",
     "shell.execute_reply.started": "2023-04-06T18:23:34.640765Z"
    },
    "papermill": {
     "duration": 38.736884,
     "end_time": "2022-04-01T13:41:37.301789",
     "exception": false,
     "start_time": "2022-04-01T13:40:58.564905",
     "status": "completed"
    },
    "tags": []
   },
   "outputs": [
    {
     "name": "stdout",
     "output_type": "stream",
     "text": [
      "x shape: (5200, 40000)\n",
      "Weights shape: (40000, 750)\n",
      "Output weights shape: (750, 5)\n"
     ]
    }
   ],
   "source": [
    "X = input_hidden(trainX) \n",
    "X_tr = np.transpose(X)\n",
    "ww = np.dot(X_tr, X) \n",
    "c = np.identity(len(np.array(ww)))\n",
    "c = np.dot(c,3)\n",
    "ww = ww + c\n",
    "wo_1 = np.linalg.inv(ww) \n",
    "\n",
    "wo_2 = np.dot(X_tr, trainY) \n",
    "\n",
    "Wo = np.dot(wo_1, wo_2) \n",
    "print('Output weights shape: {shape}'.format(shape=Wo.shape))"
   ]
  },
  {
   "cell_type": "code",
   "execution_count": 12,
   "id": "411f6fe9",
   "metadata": {
    "execution": {
     "iopub.execute_input": "2023-04-06T18:23:39.381452Z",
     "iopub.status.busy": "2023-04-06T18:23:39.380998Z",
     "iopub.status.idle": "2023-04-06T18:23:39.388509Z",
     "shell.execute_reply": "2023-04-06T18:23:39.387583Z",
     "shell.execute_reply.started": "2023-04-06T18:23:39.381422Z"
    },
    "papermill": {
     "duration": 0.042755,
     "end_time": "2022-04-01T13:41:37.388574",
     "exception": false,
     "start_time": "2022-04-01T13:41:37.345819",
     "status": "completed"
    },
    "tags": []
   },
   "outputs": [],
   "source": [
    "def pred(x):\n",
    "    x = input_hidden(x)\n",
    "    y = np.dot(x, Wo)\n",
    "    return y"
   ]
  },
  {
   "cell_type": "code",
   "execution_count": 30,
   "id": "80abde7e",
   "metadata": {
    "execution": {
     "iopub.execute_input": "2023-04-06T18:43:48.199628Z",
     "iopub.status.busy": "2023-04-06T18:43:48.199292Z",
     "iopub.status.idle": "2023-04-06T18:43:48.754487Z",
     "shell.execute_reply": "2023-04-06T18:43:48.753565Z",
     "shell.execute_reply.started": "2023-04-06T18:43:48.199599Z"
    },
    "papermill": {
     "duration": 3.458766,
     "end_time": "2022-04-01T13:41:40.871501",
     "exception": false,
     "start_time": "2022-04-01T13:41:37.412735",
     "status": "completed"
    },
    "tags": []
   },
   "outputs": [
    {
     "name": "stdout",
     "output_type": "stream",
     "text": [
      "x shape: (578, 40000)\n",
      "Weights shape: (40000, 750)\n"
     ]
    }
   ],
   "source": [
    "\n",
    "accuracy_ =  []\n",
    "specificty_ = []\n",
    "sensibility = []\n",
    "\n",
    "\n",
    "TP = 0 \n",
    "TN = 0 \n",
    "FP = 0 \n",
    "FN = 0 \n",
    "\n",
    "y = pred(validX)\n",
    "correct = 0\n",
    "total = y.shape[0]\n",
    "prediction = []\n",
    "valid = []\n",
    "for i in range(total):\n",
    "    prediction.append(np.argmax(y[i]))\n",
    "    valid.append(np.argmax(validY[i]))"
   ]
  },
  {
   "cell_type": "code",
   "execution_count": 20,
   "id": "3b5b5e2a",
   "metadata": {
    "execution": {
     "iopub.execute_input": "2023-04-06T18:29:53.949480Z",
     "iopub.status.busy": "2023-04-06T18:29:53.949117Z",
     "iopub.status.idle": "2023-04-06T18:29:53.961814Z",
     "shell.execute_reply": "2023-04-06T18:29:53.960716Z",
     "shell.execute_reply.started": "2023-04-06T18:29:53.949449Z"
    }
   },
   "outputs": [],
   "source": [
    "def make_confusion_matrix(y_true, y_pred, classes=None, figsize=(15, 7), text_size=10, norm=False, savefig=False): \n",
    "  # Create the confustion matrix\n",
    "    cm = confusion_matrix(y_true, y_pred)\n",
    "    cm_norm = cm.astype(\"float\") / cm.sum(axis=1)[:, np.newaxis] \n",
    "    n_classes = cm.shape[0]\n",
    "\n",
    "    fig, ax = plt.subplots(figsize=figsize)\n",
    "    cax = ax.matshow(cm, cmap=plt.cm.Blues) \n",
    "    fig.colorbar(cax)\n",
    "\n",
    "    if classes:\n",
    "        labels = classes\n",
    "    else:\n",
    "        labels = np.arange(cm.shape[0])\n",
    "  \n",
    "    # Label the axes\n",
    "    ax.set(title=\"Confusion Matrix\",\n",
    "         xlabel=\"Predicted label\",\n",
    "         ylabel=\"True label\",\n",
    "         xticks=np.arange(n_classes),\n",
    "         yticks=np.arange(n_classes), \n",
    "         xticklabels=labels,\n",
    "         yticklabels=labels)\n",
    "  \n",
    "    ax.xaxis.set_label_position(\"bottom\")\n",
    "    ax.xaxis.tick_bottom()\n",
    "    plt.xticks(rotation=90, fontsize=text_size)\n",
    "    plt.yticks(fontsize=text_size)\n",
    "\n",
    "    threshold = (cm.max() + cm.min()) / 2.\n",
    "\n",
    "    for i, j in itertools.product(range(cm.shape[0]), range(cm.shape[1])):\n",
    "        if norm:\n",
    "            plt.text(j, i, f\"{cm[i, j]} ({cm_norm[i, j]*100:.1f}%)\",\n",
    "                horizontalalignment=\"center\",\n",
    "                color=\"white\" if cm[i, j] > threshold else \"black\",\n",
    "                size=text_size)\n",
    "        else:\n",
    "            plt.text(j, i, f\"{cm[i, j]}\",\n",
    "              horizontalalignment=\"center\",\n",
    "              color=\"white\" if cm[i, j] > threshold else \"black\",\n",
    "              size=text_size)\n",
    "    if savefig:\n",
    "        fig.savefig(\"confusion_matrix.png\")"
   ]
  },
  {
   "cell_type": "code",
   "execution_count": 21,
   "id": "981d41f7",
   "metadata": {
    "execution": {
     "iopub.execute_input": "2023-04-06T18:30:11.782360Z",
     "iopub.status.busy": "2023-04-06T18:30:11.781983Z",
     "iopub.status.idle": "2023-04-06T18:30:11.787559Z",
     "shell.execute_reply": "2023-04-06T18:30:11.786120Z",
     "shell.execute_reply.started": "2023-04-06T18:30:11.782327Z"
    }
   },
   "outputs": [],
   "source": [
    "labels={0:'Healthy',1:'Doubtful',2:'Minimal',3:'Moderate',4:'Severe'}"
   ]
  },
  {
   "cell_type": "code",
   "execution_count": 27,
   "id": "b149d3e7",
   "metadata": {
    "execution": {
     "iopub.execute_input": "2023-04-06T18:42:41.159671Z",
     "iopub.status.busy": "2023-04-06T18:42:41.159314Z",
     "iopub.status.idle": "2023-04-06T18:42:41.167294Z",
     "shell.execute_reply": "2023-04-06T18:42:41.165516Z",
     "shell.execute_reply.started": "2023-04-06T18:42:41.159641Z"
    }
   },
   "outputs": [
    {
     "data": {
      "text/plain": [
       "1"
      ]
     },
     "execution_count": 27,
     "metadata": {},
     "output_type": "execute_result"
    }
   ],
   "source": [
    "valid"
   ]
  },
  {
   "cell_type": "code",
   "execution_count": 33,
   "id": "49769f4c",
   "metadata": {
    "execution": {
     "iopub.execute_input": "2023-04-06T18:44:29.325731Z",
     "iopub.status.busy": "2023-04-06T18:44:29.325341Z",
     "iopub.status.idle": "2023-04-06T18:44:29.619691Z",
     "shell.execute_reply": "2023-04-06T18:44:29.618677Z",
     "shell.execute_reply.started": "2023-04-06T18:44:29.325684Z"
    }
   },
   "outputs": [
    {
     "data": {
      "image/png": "[encoded data removed]",
      "text/plain": [
       "<Figure size 1500x700 with 2 Axes>"
      ]
     },
     "metadata": {},
     "output_type": "display_data"
    }
   ],
   "source": [
    "make_confusion_matrix(valid, prediction, list(labels.values()))"
   ]
  },
  {
   "cell_type": "code",
   "execution_count": 36,
   "id": "880cdc82",
   "metadata": {
    "execution": {
     "iopub.execute_input": "2023-04-06T18:46:20.053094Z",
     "iopub.status.busy": "2023-04-06T18:46:20.051467Z",
     "iopub.status.idle": "2023-04-06T18:46:20.067046Z",
     "shell.execute_reply": "2023-04-06T18:46:20.065769Z",
     "shell.execute_reply.started": "2023-04-06T18:46:20.053036Z"
    }
   },
   "outputs": [
    {
     "name": "stdout",
     "output_type": "stream",
     "text": [
      "Model accuracy on test is:  0.5069\n",
      "--------------------------------------------------\n",
      "Model precision score on test is:  0.507\n",
      "--------------------------------------------------\n",
      "Model recall score on test is:  0.507\n",
      "--------------------------------------------------\n",
      "Model F1 score on test is:  0.507\n",
      "--------------------------------------------------\n"
     ]
    }
   ],
   "source": [
    "print(\"Model accuracy on test is: \", round(accuracy_score(valid, prediction),4))\n",
    "print('-'*50)\n",
    "print(\"Model precision score on test is: \", round(precision_score(valid, prediction, average='micro'),3))\n",
    "print('-'*50)\n",
    "print(\"Model recall score on test is: \", round(recall_score(valid, prediction, average='micro'),3))\n",
    "print('-'*50)\n",
    "print(\"Model F1 score on test is: \", round(f1_score(valid, prediction, average='micro'),3))\n",
    "print('-'*50)"
   ]
  }
 ],
 "metadata": {
  "kernelspec": {
   "display_name": "Python 3 (ipykernel)",
   "language": "python",
   "name": "python3"
  },
  "language_info": {
   "codemirror_mode": {
    "name": "ipython",
    "version": 3
   },
   "file_extension": ".py",
   "mimetype": "text/x-python",
   "name": "python",
   "nbconvert_exporter": "python",
   "pygments_lexer": "ipython3",
   "version": "3.10.5"
  },
  "papermill": {
   "default_parameters": {},
   "duration": 249.286775,
   "end_time": "2022-04-01T13:41:50.735263",
   "environment_variables": {},
   "exception": null,
   "input_path": "__notebook__.ipynb",
   "output_path": "__notebook__.ipynb",
   "parameters": {},
   "start_time": "2022-04-01T13:37:41.448488",
   "version": "2.3.3"
  }
 },
 "nbformat": 4,
 "nbformat_minor": 5
}
